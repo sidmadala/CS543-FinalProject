{
 "cells": [
  {
   "cell_type": "code",
   "execution_count": 1,
   "metadata": {},
   "outputs": [],
   "source": [
    "import torch\n",
    "import boto3\n",
    "import pandas as pd\n",
    "import numpy as np\n",
    "import matplotlib.pyplot as plt\n",
    "from CS543_Dataset import MIMIC_CXR_Dataset\n",
    "from torch.utils.tensorboard import SummaryWriter\n",
    "import tqdm\n",
    "pd.set_option('display.max_columns', None)"
   ]
  },
  {
   "cell_type": "code",
   "execution_count": 2,
   "metadata": {},
   "outputs": [],
   "source": [
    "## Load the master dataset\n",
    "master_df = pd.read_csv('data/master_df.csv', index_col=0)"
   ]
  },
  {
   "cell_type": "code",
   "execution_count": 3,
   "metadata": {},
   "outputs": [],
   "source": [
    "## Determine all the images we have access to\n",
    "## Setup boto3\n",
    "s3 = boto3.resource('s3')\n",
    "bucket_name = \"cs543-final-project\"\n",
    "image_path = \"physionet.org/files/mimic-cxr-jpg/2.0.0/images/\"\n",
    "\n",
    "## Get list of files in bucket folder\n",
    "image_locs = []\n",
    "s3_bucket = s3.Bucket(bucket_name)\n",
    "for image_name in s3_bucket.objects.filter(Prefix=image_path):\n",
    "    image_locs.append(image_name.key[47:-4])\n",
    "\n",
    "\n",
    "## A lot of our images are duplications. One of the key duplication points is insurance.\n",
    "# imputation strategy, if at any point the patient used medicare or medicaid, all of the values for that patient\n",
    "# needs to be medicare or medicaid\n",
    "master_df.loc[master_df['subject_id'].isin(master_df.loc[master_df['insurance'] == 'Medicare', 'subject_id']), 'insurance'] = 'Medicare' \n",
    "master_df.loc[master_df['subject_id'].isin(master_df.loc[master_df['insurance'] == 'Medicaid', 'subject_id']), 'insurance'] = 'Medicaid' \n",
    "\n",
    "## Subset our dataset to only the images we have\n",
    "master_df = master_df.loc[master_df['dicom_id'].isin(image_locs)]\n",
    "master_df = master_df.drop_duplicates()\n",
    "master_df = master_df.loc[master_df['dicom_id'].isin(list(master_df.groupby('dicom_id')['dicom_id'].count().sort_values(ascending=False).loc[lambda x: x == 1].index))]\n",
    "master_df = master_df.reset_index(drop=True)\n",
    "master_df = master_df.replace(-1, 0).fillna(0)"
   ]
  },
  {
   "cell_type": "code",
   "execution_count": 4,
   "metadata": {},
   "outputs": [],
   "source": [
    "outcome_list = ['Atelectasis', 'Cardiomegaly', 'Consolidation', 'Edema', 'Enlarged Cardiomediastinum', 'Fracture', 'Lung Lesion', 'Lung Opacity', 'No Finding', 'Pleural Effusion', 'Pleural Other', 'Pneumonia', 'Pneumothorax', 'Support Devices']"
   ]
  },
  {
   "cell_type": "markdown",
   "metadata": {},
   "source": [
    "## Load the model\n",
    "Here we're loading the densenet model"
   ]
  },
  {
   "cell_type": "code",
   "execution_count": 5,
   "metadata": {},
   "outputs": [],
   "source": [
    "## Load the model\n",
    "from torchvision import  models\n",
    "model = models.densenet121(pretrained=True)\n",
    "## Create the model's classification layer. We don't need a Sigmoid at the end of this because we'll incorporate it into the loss function\n",
    "model.classifier = torch.nn.Linear(model.classifier.in_features, len(outcome_list))"
   ]
  },
  {
   "cell_type": "markdown",
   "metadata": {},
   "source": [
    "## Specificy Training Parameters"
   ]
  },
  {
   "cell_type": "code",
   "execution_count": 6,
   "metadata": {},
   "outputs": [],
   "source": [
    "batch_size = 32\n",
    "num_epochs = 5\n",
    "learning_rate = 1e-3\n",
    "loss_fn = torch.nn.BCEWithLogitsLoss()\n",
    "optimizer = torch.optim.AdamW(model.parameters(), lr=learning_rate)"
   ]
  },
  {
   "cell_type": "markdown",
   "metadata": {},
   "source": [
    "## Specify Training and Testing Datasets"
   ]
  },
  {
   "cell_type": "code",
   "execution_count": 7,
   "metadata": {},
   "outputs": [],
   "source": [
    "from sklearn.model_selection import train_test_split\n",
    "train_images, val_images = train_test_split(np.unique(master_df['dicom_id'].values[:]), test_size=.2)\n",
    "all_df = master_df[['dicom_id'] + outcome_list]\n",
    "train_df = all_df.loc[all_df['dicom_id'].isin(train_images)].reset_index(drop=True)\n",
    "val_df = all_df.loc[all_df['dicom_id'].isin(val_images)].reset_index(drop=True)"
   ]
  },
  {
   "cell_type": "code",
   "execution_count": 8,
   "metadata": {},
   "outputs": [],
   "source": [
    "import torchvision.transforms as transforms\n",
    "train_dataset = MIMIC_CXR_Dataset(train_df, outcome_list, image_prefix=\"data/images\", transforms=transforms.Compose([\n",
    "                                                                                                            transforms.RandomHorizontalFlip(),\n",
    "                                                                                                            transforms.RandomRotation(15),\n",
    "                                                                                                            transforms.Resize(256),\n",
    "                                                                                                            transforms.CenterCrop(256),\n",
    "                                                                                                            transforms.ToTensor(),\n",
    "                                                                                                            transforms.Normalize(mean=[0.485, 0.456, 0.406], std=[0.229, 0.224, 0.225])\n",
    "                                                                                                        ]))\n",
    "\n",
    "\n",
    "train_dataLoader = torch.utils.data.DataLoader(train_dataset,batch_size=8, sampler=np.unique(train_df['dicom_id'].values[:]))"
   ]
  },
  {
   "cell_type": "code",
   "execution_count": 9,
   "metadata": {},
   "outputs": [],
   "source": [
    "def train_loop(dataloader, model, loss_fn, optimizer, epoch, summaryWriter=None):\n",
    "    curr_loss = 0\n",
    "    size = len(dataloader.dataset)\n",
    "    step = epoch*size\n",
    "    model.train()\n",
    "    pbar = tqdm.tqdm(enumerate(dataloader), total=size)\n",
    "    for batch_idx, batch in pbar:\n",
    "        pbar.set_description(\"Current Loss: %s\" % curr_loss)\n",
    "        ## Extract the inputs\n",
    "        images, labels = batch\n",
    "\n",
    "        ## Pass images into the model\n",
    "        outputs = model(images)\n",
    "\n",
    "        ## Calculate the loss\n",
    "        loss = loss_fn(outputs, labels)\n",
    "\n",
    "        ## Loss value\n",
    "        curr_loss = loss.item()\n",
    "\n",
    "        ## Write to tensorboard\n",
    "        if summaryWriter is not None:\n",
    "            summaryWriter.add_scalar('Loss/train', curr_loss, step)\n",
    "\n",
    "        ## Backwards pass\n",
    "        loss.backward()\n",
    "\n",
    "        ## Optimizer step\n",
    "        optimizer.step()\n",
    "\n",
    "        ## Go to the next step\n",
    "        step = step + 1\n",
    "\n"
   ]
  },
  {
   "cell_type": "code",
   "execution_count": 10,
   "metadata": {},
   "outputs": [
    {
     "name": "stderr",
     "output_type": "stream",
     "text": [
      "Current Loss: 0.4819687738906243:   0%|          | 28/10984 [02:02<12:05:30,  3.97s/it] "
     ]
    }
   ],
   "source": [
    "writer = SummaryWriter()\n",
    "for epoch in range(num_epochs):\n",
    "    train_loop(train_dataLoader, model, loss_fn, optimizer, epoch, summaryWriter=writer)\n",
    "    print(f\"Finished Epoch: {epoch}\")"
   ]
  },
  {
   "cell_type": "code",
   "execution_count": null,
   "metadata": {},
   "outputs": [],
   "source": [
    "## Load the master dataset\n",
    "master_df = pd.read_csv('data/master_df.csv', index_col=0)"
   ]
  },
  {
   "cell_type": "code",
   "execution_count": null,
   "metadata": {},
   "outputs": [],
   "source": []
  },
  {
   "cell_type": "code",
   "execution_count": null,
   "metadata": {},
   "outputs": [],
   "source": []
  },
  {
   "cell_type": "code",
   "execution_count": null,
   "metadata": {},
   "outputs": [],
   "source": []
  },
  {
   "cell_type": "code",
   "execution_count": null,
   "metadata": {},
   "outputs": [],
   "source": []
  }
 ],
 "metadata": {
  "interpreter": {
   "hash": "f3b6d2671aae3ee82365a2db5b44c2bbc417dd0cc853ada8d6e3249c312b57bd"
  },
  "kernelspec": {
   "display_name": "Python 3.8.13 ('cs543-env': conda)",
   "language": "python",
   "name": "python3"
  },
  "language_info": {
   "codemirror_mode": {
    "name": "ipython",
    "version": 3
   },
   "file_extension": ".py",
   "mimetype": "text/x-python",
   "name": "python",
   "nbconvert_exporter": "python",
   "pygments_lexer": "ipython3",
   "version": "3.8.13"
  },
  "orig_nbformat": 4
 },
 "nbformat": 4,
 "nbformat_minor": 2
}
