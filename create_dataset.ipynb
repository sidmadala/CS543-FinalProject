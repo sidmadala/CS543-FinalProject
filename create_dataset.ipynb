{
 "cells": [
  {
   "cell_type": "code",
   "execution_count": 18,
   "metadata": {},
   "outputs": [],
   "source": [
    "import boto3\n",
    "import io\n",
    "import pandas as pd\n",
    "import matplotlib.pyplot as plt"
   ]
  },
  {
   "cell_type": "code",
   "execution_count": 32,
   "metadata": {},
   "outputs": [],
   "source": [
    "## Setup boto3\n",
    "s3 = boto3.client('s3')\n",
    "\n",
    "## Paths for all necessary CSV files\n",
    "bucket = \"cs543-final-project\"\n",
    "patient_data_key = \"physionet.org/files/mimic-cxr-jpg/2.0.0/patients.csv\"\n",
    "admissions_data_key = \"physionet.org/files/mimic-cxr-jpg/2.0.0/admissions.csv\"\n",
    "outcomes_key = \"physionet.org/files/mimic-cxr-jpg/2.0.0/mimic-cxr-2.0.0-negbio.csv\"\n",
    "image_data_key = \"physionet.org/files/mimic-cxr-jpg/2.0.0/mimic-cxr-2.0.0-metadata.csv\"\n",
    "\n",
    "## Read the csv files\n",
    "obj = s3.get_object(Bucket=bucket, Key=patient_data_key)\n",
    "patient_data = pd.read_csv(io.BytesIO(obj['Body'].read()))\n",
    "\n",
    "obj = s3.get_object(Bucket=bucket, Key=admissions_data_key)\n",
    "admissions_data = pd.read_csv(io.BytesIO(obj['Body'].read()))\n",
    "\n",
    "obj = s3.get_object(Bucket=bucket, Key=outcomes_key)\n",
    "outcome_data = pd.read_csv(io.BytesIO(obj['Body'].read()))\n",
    "\n",
    "obj = s3.get_object(Bucket=bucket, Key=image_data_key)\n",
    "image_data = pd.read_csv(io.BytesIO(obj['Body'].read()))"
   ]
  },
  {
   "cell_type": "code",
   "execution_count": 34,
   "metadata": {},
   "outputs": [],
   "source": [
    "patient_data = patient_data[['subject_id', 'gender', 'anchor_age']]\n",
    "admissions_data = admissions_data[['subject_id', 'insurance', 'ethnicity']]\n",
    "image_data = image_data[['subject_id', 'study_id', 'dicom_id']]"
   ]
  },
  {
   "cell_type": "code",
   "execution_count": 38,
   "metadata": {},
   "outputs": [],
   "source": [
    "df = patient_data.merge(admissions_data, on='subject_id').merge(image_data, on='subject_id').merge(outcome_data, on=['subject_id','study_id'])\n",
    "df = df[['subject_id','study_id','dicom_id', 'gender', 'anchor_age', 'insurance', 'ethnicity',\n",
    "        'Atelectasis', 'Cardiomegaly', 'Consolidation',\n",
    "       'Edema', 'Enlarged Cardiomediastinum', 'Fracture', 'Lung Lesion',\n",
    "       'Lung Opacity', 'No Finding', 'Pleural Effusion', 'Pleural Other',\n",
    "       'Pneumonia', 'Pneumothorax', 'Support Devices']]"
   ]
  },
  {
   "cell_type": "code",
   "execution_count": 43,
   "metadata": {},
   "outputs": [],
   "source": [
    "df.to_csv('data/master_df.csv')"
   ]
  },
  {
   "cell_type": "code",
   "execution_count": null,
   "metadata": {},
   "outputs": [],
   "source": []
  },
  {
   "cell_type": "code",
   "execution_count": null,
   "metadata": {},
   "outputs": [],
   "source": []
  },
  {
   "cell_type": "code",
   "execution_count": null,
   "metadata": {},
   "outputs": [],
   "source": []
  }
 ],
 "metadata": {
  "interpreter": {
   "hash": "f3b6d2671aae3ee82365a2db5b44c2bbc417dd0cc853ada8d6e3249c312b57bd"
  },
  "kernelspec": {
   "display_name": "Python 3.8.13 ('cs543-env': conda)",
   "language": "python",
   "name": "python3"
  },
  "language_info": {
   "codemirror_mode": {
    "name": "ipython",
    "version": 3
   },
   "file_extension": ".py",
   "mimetype": "text/x-python",
   "name": "python",
   "nbconvert_exporter": "python",
   "pygments_lexer": "ipython3",
   "version": "3.8.13"
  },
  "orig_nbformat": 4
 },
 "nbformat": 4,
 "nbformat_minor": 2
}
